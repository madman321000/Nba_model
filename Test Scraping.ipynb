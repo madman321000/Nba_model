{
 "cells": [
  {
   "cell_type": "code",
   "execution_count": 1,
   "metadata": {},
   "outputs": [],
   "source": [
    "from bs4 import BeautifulSoup"
   ]
  },
  {
   "cell_type": "code",
   "execution_count": 75,
   "metadata": {},
   "outputs": [],
   "source": [
    "months = [\"october\", \"november\", \"december\", \"january\", \"february\", \"march\"]\n",
    "special_case = \"april\"\n",
    "playoffs = [\"may\", \"june\"]\n",
    "first_year = 1983\n",
    "header_link = 'https://www.basketball-reference.com'\n",
    "links = []"
   ]
  },
  {
   "cell_type": "code",
   "execution_count": 11,
   "metadata": {},
   "outputs": [],
   "source": [
    "for year in range(1983, 2020):\n",
    "    for month in months:\n",
    "        links.append(f'https://www.basketball-reference.com/leagues/NBA_{year}_games-{month}.html')"
   ]
  },
  {
   "cell_type": "code",
   "execution_count": 12,
   "metadata": {},
   "outputs": [
    {
     "name": "stdout",
     "output_type": "stream",
     "text": [
      "https://www.basketball-reference.com/leagues/NBA_2016_games-february.html\n"
     ]
    }
   ],
   "source": [
    "print(links[-20])"
   ]
  },
  {
   "cell_type": "code",
   "execution_count": 13,
   "metadata": {},
   "outputs": [],
   "source": [
    "import html5lib\n",
    "from urllib.request import urlopen\n",
    "from bs4 import BeautifulSoup\n",
    "import pandas as pd"
   ]
  },
  {
   "cell_type": "code",
   "execution_count": 51,
   "metadata": {},
   "outputs": [],
   "source": [
    "url = urlopen(str(links[-20]))"
   ]
  },
  {
   "cell_type": "code",
   "execution_count": 55,
   "metadata": {},
   "outputs": [
    {
     "ename": "IndexError",
     "evalue": "list index out of range",
     "output_type": "error",
     "traceback": [
      "\u001b[1;31m---------------------------------------------------------------------------\u001b[0m",
      "\u001b[1;31mIndexError\u001b[0m                                Traceback (most recent call last)",
      "\u001b[1;32m<ipython-input-55-0faf6ccb4199>\u001b[0m in \u001b[0;36m<module>\u001b[1;34m\u001b[0m\n\u001b[0;32m      1\u001b[0m \u001b[0msoup\u001b[0m \u001b[1;33m=\u001b[0m \u001b[0mBeautifulSoup\u001b[0m\u001b[1;33m(\u001b[0m\u001b[0murl\u001b[0m\u001b[1;33m,\u001b[0m \u001b[1;34m\"html5lib\"\u001b[0m\u001b[1;33m)\u001b[0m\u001b[1;33m\u001b[0m\u001b[1;33m\u001b[0m\u001b[0m\n\u001b[1;32m----> 2\u001b[1;33m \u001b[0mrows\u001b[0m \u001b[1;33m=\u001b[0m \u001b[0msoup\u001b[0m\u001b[1;33m.\u001b[0m\u001b[0mfindAll\u001b[0m\u001b[1;33m(\u001b[0m\u001b[1;34m'tr'\u001b[0m\u001b[1;33m,\u001b[0m \u001b[0mlimit\u001b[0m \u001b[1;33m=\u001b[0m \u001b[1;36m2\u001b[0m\u001b[1;33m)\u001b[0m\u001b[1;33m[\u001b[0m\u001b[1;36m1\u001b[0m\u001b[1;33m]\u001b[0m\u001b[1;33m\u001b[0m\u001b[1;33m\u001b[0m\u001b[0m\n\u001b[0m",
      "\u001b[1;31mIndexError\u001b[0m: list index out of range"
     ]
    }
   ],
   "source": [
    "soup = BeautifulSoup(url, \"html5lib\")\n",
    "rows = soup.findAll('tr')"
   ]
  },
  {
   "cell_type": "code",
   "execution_count": 79,
   "metadata": {},
   "outputs": [
    {
     "name": "stdout",
     "output_type": "stream",
     "text": [
      "/boxscores/201602010IND.html\n",
      "https://www.basketball-reference.com/boxscores/201602010IND.html\n"
     ]
    }
   ],
   "source": [
    "# link = rows[1].findAll('a')\n",
    "# link = link[3]\n",
    "# print(link['href'])\n",
    "# link = header_link + str(link['href'])\n",
    "# print(link)"
   ]
  },
  {
   "cell_type": "code",
   "execution_count": 100,
   "metadata": {},
   "outputs": [
    {
     "name": "stdout",
     "output_type": "stream",
     "text": [
      "['Date', 'Start (ET)', 'Visitor/Neutral', 'PTS', 'Home/Neutral', 'PTS', 'Links', 'Attendance']\n"
     ]
    }
   ],
   "source": [
    "headers = [th.getText() for th in rows[0].findAll('th')]\n",
    "headers[-4] = 'Links'\n",
    "headers[-2] = 'Attendance'\n",
    "del headers[-1]\n",
    "del headers[-2]\n",
    "print(headers)\n",
    "# print(rows[0])\n",
    "# print(len(rows))\n",
    "game_data = [[td.getText() for td in rows[i].findAll('td')] for i in range(1, len(rows))]\n",
    "dates = [[th.getText() for th in rows[i].findAll('th')] for i in range(1, len(rows))]\n",
    "links = [rows[i].findAll('a')[3] for i in range(1, len(rows))]\n",
    "links = [(header_link + link['href'])for link in links]\n",
    "for i in range(len(game_data)):\n",
    "    game_data[i][-4] = links[i]\n",
    "    game_data[i] = dates[i] + game_data[i]\n",
    "    del game_data[i][-1]\n",
    "    del game_data[i][-2]"
   ]
  },
  {
   "cell_type": "code",
   "execution_count": 101,
   "metadata": {},
   "outputs": [],
   "source": [
    "df = pd.DataFrame(game_data, columns=headers)"
   ]
  },
  {
   "cell_type": "code",
   "execution_count": 102,
   "metadata": {},
   "outputs": [
    {
     "data": {
      "text/html": [
       "<div>\n",
       "<style scoped>\n",
       "    .dataframe tbody tr th:only-of-type {\n",
       "        vertical-align: middle;\n",
       "    }\n",
       "\n",
       "    .dataframe tbody tr th {\n",
       "        vertical-align: top;\n",
       "    }\n",
       "\n",
       "    .dataframe thead th {\n",
       "        text-align: right;\n",
       "    }\n",
       "</style>\n",
       "<table border=\"1\" class=\"dataframe\">\n",
       "  <thead>\n",
       "    <tr style=\"text-align: right;\">\n",
       "      <th></th>\n",
       "      <th>Date</th>\n",
       "      <th>Start (ET)</th>\n",
       "      <th>Visitor/Neutral</th>\n",
       "      <th>PTS</th>\n",
       "      <th>Home/Neutral</th>\n",
       "      <th>PTS</th>\n",
       "      <th>Links</th>\n",
       "      <th>Attendance</th>\n",
       "    </tr>\n",
       "  </thead>\n",
       "  <tbody>\n",
       "    <tr>\n",
       "      <th>0</th>\n",
       "      <td>Mon, Feb 1, 2016</td>\n",
       "      <td>7:00p</td>\n",
       "      <td>Cleveland Cavaliers</td>\n",
       "      <td>111</td>\n",
       "      <td>Indiana Pacers</td>\n",
       "      <td>106</td>\n",
       "      <td>https://www.basketball-reference.com/boxscores...</td>\n",
       "      <td>17,283</td>\n",
       "    </tr>\n",
       "    <tr>\n",
       "      <th>1</th>\n",
       "      <td>Mon, Feb 1, 2016</td>\n",
       "      <td>7:30p</td>\n",
       "      <td>Detroit Pistons</td>\n",
       "      <td>105</td>\n",
       "      <td>Brooklyn Nets</td>\n",
       "      <td>100</td>\n",
       "      <td>https://www.basketball-reference.com/boxscores...</td>\n",
       "      <td>13,290</td>\n",
       "    </tr>\n",
       "    <tr>\n",
       "      <th>2</th>\n",
       "      <td>Mon, Feb 1, 2016</td>\n",
       "      <td>8:00p</td>\n",
       "      <td>Dallas Mavericks</td>\n",
       "      <td>97</td>\n",
       "      <td>Atlanta Hawks</td>\n",
       "      <td>112</td>\n",
       "      <td>https://www.basketball-reference.com/boxscores...</td>\n",
       "      <td>15,455</td>\n",
       "    </tr>\n",
       "    <tr>\n",
       "      <th>3</th>\n",
       "      <td>Mon, Feb 1, 2016</td>\n",
       "      <td>8:00p</td>\n",
       "      <td>Memphis Grizzlies</td>\n",
       "      <td>110</td>\n",
       "      <td>New Orleans Pelicans</td>\n",
       "      <td>95</td>\n",
       "      <td>https://www.basketball-reference.com/boxscores...</td>\n",
       "      <td>15,210</td>\n",
       "    </tr>\n",
       "    <tr>\n",
       "      <th>4</th>\n",
       "      <td>Mon, Feb 1, 2016</td>\n",
       "      <td>8:00p</td>\n",
       "      <td>Washington Wizards</td>\n",
       "      <td>98</td>\n",
       "      <td>Oklahoma City Thunder</td>\n",
       "      <td>114</td>\n",
       "      <td>https://www.basketball-reference.com/boxscores...</td>\n",
       "      <td>18,203</td>\n",
       "    </tr>\n",
       "  </tbody>\n",
       "</table>\n",
       "</div>"
      ],
      "text/plain": [
       "               Date Start (ET)      Visitor/Neutral  PTS  \\\n",
       "0  Mon, Feb 1, 2016      7:00p  Cleveland Cavaliers  111   \n",
       "1  Mon, Feb 1, 2016      7:30p      Detroit Pistons  105   \n",
       "2  Mon, Feb 1, 2016      8:00p     Dallas Mavericks   97   \n",
       "3  Mon, Feb 1, 2016      8:00p    Memphis Grizzlies  110   \n",
       "4  Mon, Feb 1, 2016      8:00p   Washington Wizards   98   \n",
       "\n",
       "            Home/Neutral  PTS  \\\n",
       "0         Indiana Pacers  106   \n",
       "1          Brooklyn Nets  100   \n",
       "2          Atlanta Hawks  112   \n",
       "3   New Orleans Pelicans   95   \n",
       "4  Oklahoma City Thunder  114   \n",
       "\n",
       "                                               Links Attendance  \n",
       "0  https://www.basketball-reference.com/boxscores...     17,283  \n",
       "1  https://www.basketball-reference.com/boxscores...     13,290  \n",
       "2  https://www.basketball-reference.com/boxscores...     15,455  \n",
       "3  https://www.basketball-reference.com/boxscores...     15,210  \n",
       "4  https://www.basketball-reference.com/boxscores...     18,203  "
      ]
     },
     "execution_count": 102,
     "metadata": {},
     "output_type": "execute_result"
    }
   ],
   "source": [
    "df.head()"
   ]
  },
  {
   "cell_type": "code",
   "execution_count": 103,
   "metadata": {},
   "outputs": [
    {
     "data": {
      "text/html": [
       "<div>\n",
       "<style scoped>\n",
       "    .dataframe tbody tr th:only-of-type {\n",
       "        vertical-align: middle;\n",
       "    }\n",
       "\n",
       "    .dataframe tbody tr th {\n",
       "        vertical-align: top;\n",
       "    }\n",
       "\n",
       "    .dataframe thead th {\n",
       "        text-align: right;\n",
       "    }\n",
       "</style>\n",
       "<table border=\"1\" class=\"dataframe\">\n",
       "  <thead>\n",
       "    <tr style=\"text-align: right;\">\n",
       "      <th></th>\n",
       "      <th>Date</th>\n",
       "      <th>Start (ET)</th>\n",
       "      <th>Visitor/Neutral</th>\n",
       "      <th>PTS</th>\n",
       "      <th>Home/Neutral</th>\n",
       "      <th>PTS</th>\n",
       "      <th>Links</th>\n",
       "      <th>Attendance</th>\n",
       "    </tr>\n",
       "  </thead>\n",
       "  <tbody>\n",
       "    <tr>\n",
       "      <th>166</th>\n",
       "      <td>Mon, Feb 29, 2016</td>\n",
       "      <td>7:30p</td>\n",
       "      <td>Utah Jazz</td>\n",
       "      <td>95</td>\n",
       "      <td>Boston Celtics</td>\n",
       "      <td>100</td>\n",
       "      <td>https://www.basketball-reference.com/boxscores...</td>\n",
       "      <td>17,680</td>\n",
       "    </tr>\n",
       "    <tr>\n",
       "      <th>167</th>\n",
       "      <td>Mon, Feb 29, 2016</td>\n",
       "      <td>8:00p</td>\n",
       "      <td>Houston Rockets</td>\n",
       "      <td>121</td>\n",
       "      <td>Milwaukee Bucks</td>\n",
       "      <td>128</td>\n",
       "      <td>https://www.basketball-reference.com/boxscores...</td>\n",
       "      <td>13,214</td>\n",
       "    </tr>\n",
       "    <tr>\n",
       "      <th>168</th>\n",
       "      <td>Mon, Feb 29, 2016</td>\n",
       "      <td>9:00p</td>\n",
       "      <td>Memphis Grizzlies</td>\n",
       "      <td>103</td>\n",
       "      <td>Denver Nuggets</td>\n",
       "      <td>96</td>\n",
       "      <td>https://www.basketball-reference.com/boxscores...</td>\n",
       "      <td>10,324</td>\n",
       "    </tr>\n",
       "    <tr>\n",
       "      <th>169</th>\n",
       "      <td>Mon, Feb 29, 2016</td>\n",
       "      <td>10:00p</td>\n",
       "      <td>Oklahoma City Thunder</td>\n",
       "      <td>131</td>\n",
       "      <td>Sacramento Kings</td>\n",
       "      <td>116</td>\n",
       "      <td>https://www.basketball-reference.com/boxscores...</td>\n",
       "      <td>17,317</td>\n",
       "    </tr>\n",
       "    <tr>\n",
       "      <th>170</th>\n",
       "      <td>Mon, Feb 29, 2016</td>\n",
       "      <td>10:30p</td>\n",
       "      <td>Brooklyn Nets</td>\n",
       "      <td>95</td>\n",
       "      <td>Los Angeles Clippers</td>\n",
       "      <td>105</td>\n",
       "      <td>https://www.basketball-reference.com/boxscores...</td>\n",
       "      <td>19,060</td>\n",
       "    </tr>\n",
       "  </tbody>\n",
       "</table>\n",
       "</div>"
      ],
      "text/plain": [
       "                  Date Start (ET)        Visitor/Neutral  PTS  \\\n",
       "166  Mon, Feb 29, 2016      7:30p              Utah Jazz   95   \n",
       "167  Mon, Feb 29, 2016      8:00p        Houston Rockets  121   \n",
       "168  Mon, Feb 29, 2016      9:00p      Memphis Grizzlies  103   \n",
       "169  Mon, Feb 29, 2016     10:00p  Oklahoma City Thunder  131   \n",
       "170  Mon, Feb 29, 2016     10:30p          Brooklyn Nets   95   \n",
       "\n",
       "             Home/Neutral  PTS  \\\n",
       "166        Boston Celtics  100   \n",
       "167       Milwaukee Bucks  128   \n",
       "168        Denver Nuggets   96   \n",
       "169      Sacramento Kings  116   \n",
       "170  Los Angeles Clippers  105   \n",
       "\n",
       "                                                 Links Attendance  \n",
       "166  https://www.basketball-reference.com/boxscores...     17,680  \n",
       "167  https://www.basketball-reference.com/boxscores...     13,214  \n",
       "168  https://www.basketball-reference.com/boxscores...     10,324  \n",
       "169  https://www.basketball-reference.com/boxscores...     17,317  \n",
       "170  https://www.basketball-reference.com/boxscores...     19,060  "
      ]
     },
     "execution_count": 103,
     "metadata": {},
     "output_type": "execute_result"
    }
   ],
   "source": [
    "df.tail()"
   ]
  },
  {
   "cell_type": "code",
   "execution_count": 108,
   "metadata": {},
   "outputs": [
    {
     "name": "stdout",
     "output_type": "stream",
     "text": [
      "<class 'str'>\n"
     ]
    }
   ],
   "source": [
    "# all_box-CLE-game-basic\n",
    "# all_box-IND-game-basic\n",
    "game = df['Links'][0]\n",
    "# print(type(game))"
   ]
  },
  {
   "cell_type": "code",
   "execution_count": 109,
   "metadata": {},
   "outputs": [],
   "source": [
    "url = urlopen(game)\n",
    "soup = BeautifulSoup(url, \"html5lib\")"
   ]
  },
  {
   "cell_type": "code",
   "execution_count": 114,
   "metadata": {},
   "outputs": [],
   "source": [
    "visitor = soup.find(id=\"all_box-CLE-game-basic\")\n",
    "home = soup.find(id=\"all_box-IND-game-basic\")"
   ]
  },
  {
   "cell_type": "code",
   "execution_count": 194,
   "metadata": {},
   "outputs": [
    {
     "name": "stdout",
     "output_type": "stream",
     "text": [
      "['Name', 'MP', 'FG', 'FGA', 'FG%', '3P', '3PA', '3P%', 'FT', 'FTA', 'FT%', 'ORB', 'DRB', 'TRB', 'AST', 'STL', 'BLK', 'TOV', 'PF', 'PTS', '+/-']\n"
     ]
    }
   ],
   "source": [
    "vis_rows = visitor.findAll('tr')\n",
    "headers = [header.getText() for header in vis_rows[1].findAll('th')]\n",
    "headers[0] = 'Name'\n",
    "print(headers)"
   ]
  },
  {
   "cell_type": "code",
   "execution_count": 176,
   "metadata": {},
   "outputs": [],
   "source": [
    "game_data = [[td.getText() for td in vis_rows[i].findAll('td')] for i in range(2, 7)]\n",
    "away_names = [[td.getText() for td in vis_rows[i].findAll('a')] for i in range(2, 7)]"
   ]
  },
  {
   "cell_type": "code",
   "execution_count": 179,
   "metadata": {},
   "outputs": [
    {
     "name": "stdout",
     "output_type": "stream",
     "text": [
      "[['LeBron James', '43:35', '9', '22', '.409', '0', '5', '.000', '6', '10', '.600', '2', '10', '12', '6', '2', '1', '1', '2', '24', '-1'], ['J.R. Smith', '42:06', '7', '14', '.500', '4', '7', '.571', '1', '2', '.500', '0', '3', '3', '0', '2', '0', '2', '2', '19', '+7'], ['Kevin Love', '41:48', '7', '15', '.467', '2', '5', '.400', '3', '4', '.750', '0', '8', '8', '2', '2', '2', '2', '4', '19', '+1'], ['Kyrie Irving', '40:59', '10', '20', '.500', '1', '4', '.250', '4', '4', '1.000', '0', '3', '3', '7', '0', '0', '3', '2', '25', '-3'], ['Tristan Thompson', '40:55', '7', '7', '1.000', '0', '0', '', '0', '1', '.000', '7', '5', '12', '0', '0', '0', '3', '3', '14', '+5']]\n"
     ]
    }
   ],
   "source": [
    "# print(away_names)\n",
    "# print(game_data)\n",
    "for i in range(len(game_data)):\n",
    "    game_data[i] = away_names[i] + game_data[i]\n",
    "# print(game_data)"
   ]
  },
  {
   "cell_type": "code",
   "execution_count": 180,
   "metadata": {},
   "outputs": [
    {
     "name": "stdout",
     "output_type": "stream",
     "text": [
      "[['LeBron James', '43:35', '9', '22', '.409', '0', '5', '.000', '6', '10', '.600', '2', '10', '12', '6', '2', '1', '1', '2', '24', '-1'], ['J.R. Smith', '42:06', '7', '14', '.500', '4', '7', '.571', '1', '2', '.500', '0', '3', '3', '0', '2', '0', '2', '2', '19', '+7'], ['Kevin Love', '41:48', '7', '15', '.467', '2', '5', '.400', '3', '4', '.750', '0', '8', '8', '2', '2', '2', '2', '4', '19', '+1'], ['Kyrie Irving', '40:59', '10', '20', '.500', '1', '4', '.250', '4', '4', '1.000', '0', '3', '3', '7', '0', '0', '3', '2', '25', '-3'], ['Tristan Thompson', '40:55', '7', '7', '1.000', '0', '0', '', '0', '1', '.000', '7', '5', '12', '0', '0', '0', '3', '3', '14', '+5']]\n",
      "5\n"
     ]
    }
   ],
   "source": [
    "print(game_data)\n",
    "print(len(game_data))"
   ]
  },
  {
   "cell_type": "code",
   "execution_count": 181,
   "metadata": {},
   "outputs": [],
   "source": [
    "home_rows = home.findAll('tr')\n",
    "game_data_home = [[td.getText() for td in home_rows[i].findAll('td')] for i in range(2, 7)]\n",
    "home_names = [[td.getText() for td in home_rows[i].findAll('a')] for i in range(2, 7)]\n",
    "for i in range(len(game_data_home)):\n",
    "    game_data_home[i] = home_names[i] + game_data_home[i]"
   ]
  },
  {
   "cell_type": "code",
   "execution_count": 182,
   "metadata": {},
   "outputs": [
    {
     "name": "stdout",
     "output_type": "stream",
     "text": [
      "[['Monta Ellis', '41:01', '5', '18', '.278', '1', '8', '.125', '3', '4', '.750', '0', '2', '2', '5', '2', '0', '6', '4', '14', '-7'], ['Paul George', '39:52', '3', '15', '.200', '1', '5', '.200', '4', '4', '1.000', '1', '4', '5', '8', '2', '0', '5', '4', '11', '-8'], ['George Hill', '38:57', '9', '16', '.563', '4', '8', '.500', '1', '1', '1.000', '1', '4', '5', '4', '2', '0', '0', '2', '23', '-8'], ['Myles Turner', '36:30', '7', '16', '.438', '0', '0', '', '0', '0', '', '6', '4', '10', '0', '1', '4', '0', '5', '14', '-3'], ['Jordan Hill', '36:03', '8', '13', '.615', '0', '0', '', '1', '1', '1.000', '3', '3', '6', '4', '1', '1', '2', '1', '17', '-4']]\n",
      "5\n"
     ]
    }
   ],
   "source": [
    "print(game_data_home)\n",
    "print(len(game_data_home))"
   ]
  },
  {
   "cell_type": "code",
   "execution_count": 195,
   "metadata": {},
   "outputs": [
    {
     "name": "stdout",
     "output_type": "stream",
     "text": [
      "21\n"
     ]
    }
   ],
   "source": [
    "# df_home = pd.DataFrame(game_data_home, columns=headers)\n",
    "# headers = headers\n",
    "print(len(headers))"
   ]
  },
  {
   "cell_type": "code",
   "execution_count": 196,
   "metadata": {},
   "outputs": [
    {
     "name": "stdout",
     "output_type": "stream",
     "text": [
      "21\n",
      "21\n"
     ]
    }
   ],
   "source": [
    "print(len(game_data_home[0]))\n",
    "print(len(game_data[0]))"
   ]
  },
  {
   "cell_type": "code",
   "execution_count": 197,
   "metadata": {},
   "outputs": [
    {
     "name": "stdout",
     "output_type": "stream",
     "text": [
      "['Name', 'MP', 'FG', 'FGA', 'FG%', '3P', '3PA', '3P%', 'FT', 'FTA', 'FT%', 'ORB', 'DRB', 'TRB', 'AST', 'STL', 'BLK', 'TOV', 'PF', 'PTS', '+/-']\n",
      "['Monta Ellis', '41:01', '5', '18', '.278', '1', '8', '.125', '3', '4', '.750', '0', '2', '2', '5', '2', '0', '6', '4', '14', '-7']\n"
     ]
    }
   ],
   "source": [
    "print(headers)\n",
    "print(game_data_home[0])"
   ]
  },
  {
   "cell_type": "code",
   "execution_count": 198,
   "metadata": {},
   "outputs": [],
   "source": [
    "df_home = pd.DataFrame(game_data_home, columns=headers, index=None)\n",
    "df_away = pd.DataFrame(game_data, columns=headers, index=None)"
   ]
  },
  {
   "cell_type": "code",
   "execution_count": 199,
   "metadata": {},
   "outputs": [
    {
     "data": {
      "text/html": [
       "<div>\n",
       "<style scoped>\n",
       "    .dataframe tbody tr th:only-of-type {\n",
       "        vertical-align: middle;\n",
       "    }\n",
       "\n",
       "    .dataframe tbody tr th {\n",
       "        vertical-align: top;\n",
       "    }\n",
       "\n",
       "    .dataframe thead th {\n",
       "        text-align: right;\n",
       "    }\n",
       "</style>\n",
       "<table border=\"1\" class=\"dataframe\">\n",
       "  <thead>\n",
       "    <tr style=\"text-align: right;\">\n",
       "      <th></th>\n",
       "      <th>Name</th>\n",
       "      <th>MP</th>\n",
       "      <th>FG</th>\n",
       "      <th>FGA</th>\n",
       "      <th>FG%</th>\n",
       "      <th>3P</th>\n",
       "      <th>3PA</th>\n",
       "      <th>3P%</th>\n",
       "      <th>FT</th>\n",
       "      <th>FTA</th>\n",
       "      <th>...</th>\n",
       "      <th>ORB</th>\n",
       "      <th>DRB</th>\n",
       "      <th>TRB</th>\n",
       "      <th>AST</th>\n",
       "      <th>STL</th>\n",
       "      <th>BLK</th>\n",
       "      <th>TOV</th>\n",
       "      <th>PF</th>\n",
       "      <th>PTS</th>\n",
       "      <th>+/-</th>\n",
       "    </tr>\n",
       "  </thead>\n",
       "  <tbody>\n",
       "    <tr>\n",
       "      <th>0</th>\n",
       "      <td>Monta Ellis</td>\n",
       "      <td>41:01</td>\n",
       "      <td>5</td>\n",
       "      <td>18</td>\n",
       "      <td>.278</td>\n",
       "      <td>1</td>\n",
       "      <td>8</td>\n",
       "      <td>.125</td>\n",
       "      <td>3</td>\n",
       "      <td>4</td>\n",
       "      <td>...</td>\n",
       "      <td>0</td>\n",
       "      <td>2</td>\n",
       "      <td>2</td>\n",
       "      <td>5</td>\n",
       "      <td>2</td>\n",
       "      <td>0</td>\n",
       "      <td>6</td>\n",
       "      <td>4</td>\n",
       "      <td>14</td>\n",
       "      <td>-7</td>\n",
       "    </tr>\n",
       "    <tr>\n",
       "      <th>1</th>\n",
       "      <td>Paul George</td>\n",
       "      <td>39:52</td>\n",
       "      <td>3</td>\n",
       "      <td>15</td>\n",
       "      <td>.200</td>\n",
       "      <td>1</td>\n",
       "      <td>5</td>\n",
       "      <td>.200</td>\n",
       "      <td>4</td>\n",
       "      <td>4</td>\n",
       "      <td>...</td>\n",
       "      <td>1</td>\n",
       "      <td>4</td>\n",
       "      <td>5</td>\n",
       "      <td>8</td>\n",
       "      <td>2</td>\n",
       "      <td>0</td>\n",
       "      <td>5</td>\n",
       "      <td>4</td>\n",
       "      <td>11</td>\n",
       "      <td>-8</td>\n",
       "    </tr>\n",
       "    <tr>\n",
       "      <th>2</th>\n",
       "      <td>George Hill</td>\n",
       "      <td>38:57</td>\n",
       "      <td>9</td>\n",
       "      <td>16</td>\n",
       "      <td>.563</td>\n",
       "      <td>4</td>\n",
       "      <td>8</td>\n",
       "      <td>.500</td>\n",
       "      <td>1</td>\n",
       "      <td>1</td>\n",
       "      <td>...</td>\n",
       "      <td>1</td>\n",
       "      <td>4</td>\n",
       "      <td>5</td>\n",
       "      <td>4</td>\n",
       "      <td>2</td>\n",
       "      <td>0</td>\n",
       "      <td>0</td>\n",
       "      <td>2</td>\n",
       "      <td>23</td>\n",
       "      <td>-8</td>\n",
       "    </tr>\n",
       "    <tr>\n",
       "      <th>3</th>\n",
       "      <td>Myles Turner</td>\n",
       "      <td>36:30</td>\n",
       "      <td>7</td>\n",
       "      <td>16</td>\n",
       "      <td>.438</td>\n",
       "      <td>0</td>\n",
       "      <td>0</td>\n",
       "      <td></td>\n",
       "      <td>0</td>\n",
       "      <td>0</td>\n",
       "      <td>...</td>\n",
       "      <td>6</td>\n",
       "      <td>4</td>\n",
       "      <td>10</td>\n",
       "      <td>0</td>\n",
       "      <td>1</td>\n",
       "      <td>4</td>\n",
       "      <td>0</td>\n",
       "      <td>5</td>\n",
       "      <td>14</td>\n",
       "      <td>-3</td>\n",
       "    </tr>\n",
       "    <tr>\n",
       "      <th>4</th>\n",
       "      <td>Jordan Hill</td>\n",
       "      <td>36:03</td>\n",
       "      <td>8</td>\n",
       "      <td>13</td>\n",
       "      <td>.615</td>\n",
       "      <td>0</td>\n",
       "      <td>0</td>\n",
       "      <td></td>\n",
       "      <td>1</td>\n",
       "      <td>1</td>\n",
       "      <td>...</td>\n",
       "      <td>3</td>\n",
       "      <td>3</td>\n",
       "      <td>6</td>\n",
       "      <td>4</td>\n",
       "      <td>1</td>\n",
       "      <td>1</td>\n",
       "      <td>2</td>\n",
       "      <td>1</td>\n",
       "      <td>17</td>\n",
       "      <td>-4</td>\n",
       "    </tr>\n",
       "  </tbody>\n",
       "</table>\n",
       "<p>5 rows × 21 columns</p>\n",
       "</div>"
      ],
      "text/plain": [
       "           Name     MP FG FGA   FG% 3P 3PA   3P% FT FTA  ... ORB DRB TRB AST  \\\n",
       "0   Monta Ellis  41:01  5  18  .278  1   8  .125  3   4  ...   0   2   2   5   \n",
       "1   Paul George  39:52  3  15  .200  1   5  .200  4   4  ...   1   4   5   8   \n",
       "2   George Hill  38:57  9  16  .563  4   8  .500  1   1  ...   1   4   5   4   \n",
       "3  Myles Turner  36:30  7  16  .438  0   0        0   0  ...   6   4  10   0   \n",
       "4   Jordan Hill  36:03  8  13  .615  0   0        1   1  ...   3   3   6   4   \n",
       "\n",
       "  STL BLK TOV PF PTS +/-  \n",
       "0   2   0   6  4  14  -7  \n",
       "1   2   0   5  4  11  -8  \n",
       "2   2   0   0  2  23  -8  \n",
       "3   1   4   0  5  14  -3  \n",
       "4   1   1   2  1  17  -4  \n",
       "\n",
       "[5 rows x 21 columns]"
      ]
     },
     "execution_count": 199,
     "metadata": {},
     "output_type": "execute_result"
    }
   ],
   "source": [
    "df_home.head()"
   ]
  },
  {
   "cell_type": "code",
   "execution_count": 200,
   "metadata": {},
   "outputs": [
    {
     "data": {
      "text/html": [
       "<div>\n",
       "<style scoped>\n",
       "    .dataframe tbody tr th:only-of-type {\n",
       "        vertical-align: middle;\n",
       "    }\n",
       "\n",
       "    .dataframe tbody tr th {\n",
       "        vertical-align: top;\n",
       "    }\n",
       "\n",
       "    .dataframe thead th {\n",
       "        text-align: right;\n",
       "    }\n",
       "</style>\n",
       "<table border=\"1\" class=\"dataframe\">\n",
       "  <thead>\n",
       "    <tr style=\"text-align: right;\">\n",
       "      <th></th>\n",
       "      <th>Name</th>\n",
       "      <th>MP</th>\n",
       "      <th>FG</th>\n",
       "      <th>FGA</th>\n",
       "      <th>FG%</th>\n",
       "      <th>3P</th>\n",
       "      <th>3PA</th>\n",
       "      <th>3P%</th>\n",
       "      <th>FT</th>\n",
       "      <th>FTA</th>\n",
       "      <th>...</th>\n",
       "      <th>ORB</th>\n",
       "      <th>DRB</th>\n",
       "      <th>TRB</th>\n",
       "      <th>AST</th>\n",
       "      <th>STL</th>\n",
       "      <th>BLK</th>\n",
       "      <th>TOV</th>\n",
       "      <th>PF</th>\n",
       "      <th>PTS</th>\n",
       "      <th>+/-</th>\n",
       "    </tr>\n",
       "  </thead>\n",
       "  <tbody>\n",
       "    <tr>\n",
       "      <th>0</th>\n",
       "      <td>LeBron James</td>\n",
       "      <td>43:35</td>\n",
       "      <td>9</td>\n",
       "      <td>22</td>\n",
       "      <td>.409</td>\n",
       "      <td>0</td>\n",
       "      <td>5</td>\n",
       "      <td>.000</td>\n",
       "      <td>6</td>\n",
       "      <td>10</td>\n",
       "      <td>...</td>\n",
       "      <td>2</td>\n",
       "      <td>10</td>\n",
       "      <td>12</td>\n",
       "      <td>6</td>\n",
       "      <td>2</td>\n",
       "      <td>1</td>\n",
       "      <td>1</td>\n",
       "      <td>2</td>\n",
       "      <td>24</td>\n",
       "      <td>-1</td>\n",
       "    </tr>\n",
       "    <tr>\n",
       "      <th>1</th>\n",
       "      <td>J.R. Smith</td>\n",
       "      <td>42:06</td>\n",
       "      <td>7</td>\n",
       "      <td>14</td>\n",
       "      <td>.500</td>\n",
       "      <td>4</td>\n",
       "      <td>7</td>\n",
       "      <td>.571</td>\n",
       "      <td>1</td>\n",
       "      <td>2</td>\n",
       "      <td>...</td>\n",
       "      <td>0</td>\n",
       "      <td>3</td>\n",
       "      <td>3</td>\n",
       "      <td>0</td>\n",
       "      <td>2</td>\n",
       "      <td>0</td>\n",
       "      <td>2</td>\n",
       "      <td>2</td>\n",
       "      <td>19</td>\n",
       "      <td>+7</td>\n",
       "    </tr>\n",
       "    <tr>\n",
       "      <th>2</th>\n",
       "      <td>Kevin Love</td>\n",
       "      <td>41:48</td>\n",
       "      <td>7</td>\n",
       "      <td>15</td>\n",
       "      <td>.467</td>\n",
       "      <td>2</td>\n",
       "      <td>5</td>\n",
       "      <td>.400</td>\n",
       "      <td>3</td>\n",
       "      <td>4</td>\n",
       "      <td>...</td>\n",
       "      <td>0</td>\n",
       "      <td>8</td>\n",
       "      <td>8</td>\n",
       "      <td>2</td>\n",
       "      <td>2</td>\n",
       "      <td>2</td>\n",
       "      <td>2</td>\n",
       "      <td>4</td>\n",
       "      <td>19</td>\n",
       "      <td>+1</td>\n",
       "    </tr>\n",
       "    <tr>\n",
       "      <th>3</th>\n",
       "      <td>Kyrie Irving</td>\n",
       "      <td>40:59</td>\n",
       "      <td>10</td>\n",
       "      <td>20</td>\n",
       "      <td>.500</td>\n",
       "      <td>1</td>\n",
       "      <td>4</td>\n",
       "      <td>.250</td>\n",
       "      <td>4</td>\n",
       "      <td>4</td>\n",
       "      <td>...</td>\n",
       "      <td>0</td>\n",
       "      <td>3</td>\n",
       "      <td>3</td>\n",
       "      <td>7</td>\n",
       "      <td>0</td>\n",
       "      <td>0</td>\n",
       "      <td>3</td>\n",
       "      <td>2</td>\n",
       "      <td>25</td>\n",
       "      <td>-3</td>\n",
       "    </tr>\n",
       "    <tr>\n",
       "      <th>4</th>\n",
       "      <td>Tristan Thompson</td>\n",
       "      <td>40:55</td>\n",
       "      <td>7</td>\n",
       "      <td>7</td>\n",
       "      <td>1.000</td>\n",
       "      <td>0</td>\n",
       "      <td>0</td>\n",
       "      <td></td>\n",
       "      <td>0</td>\n",
       "      <td>1</td>\n",
       "      <td>...</td>\n",
       "      <td>7</td>\n",
       "      <td>5</td>\n",
       "      <td>12</td>\n",
       "      <td>0</td>\n",
       "      <td>0</td>\n",
       "      <td>0</td>\n",
       "      <td>3</td>\n",
       "      <td>3</td>\n",
       "      <td>14</td>\n",
       "      <td>+5</td>\n",
       "    </tr>\n",
       "  </tbody>\n",
       "</table>\n",
       "<p>5 rows × 21 columns</p>\n",
       "</div>"
      ],
      "text/plain": [
       "               Name     MP  FG FGA    FG% 3P 3PA   3P% FT FTA  ... ORB DRB  \\\n",
       "0      LeBron James  43:35   9  22   .409  0   5  .000  6  10  ...   2  10   \n",
       "1        J.R. Smith  42:06   7  14   .500  4   7  .571  1   2  ...   0   3   \n",
       "2        Kevin Love  41:48   7  15   .467  2   5  .400  3   4  ...   0   8   \n",
       "3      Kyrie Irving  40:59  10  20   .500  1   4  .250  4   4  ...   0   3   \n",
       "4  Tristan Thompson  40:55   7   7  1.000  0   0        0   1  ...   7   5   \n",
       "\n",
       "  TRB AST STL BLK TOV PF PTS +/-  \n",
       "0  12   6   2   1   1  2  24  -1  \n",
       "1   3   0   2   0   2  2  19  +7  \n",
       "2   8   2   2   2   2  4  19  +1  \n",
       "3   3   7   0   0   3  2  25  -3  \n",
       "4  12   0   0   0   3  3  14  +5  \n",
       "\n",
       "[5 rows x 21 columns]"
      ]
     },
     "execution_count": 200,
     "metadata": {},
     "output_type": "execute_result"
    }
   ],
   "source": [
    "df_away.head()"
   ]
  },
  {
   "cell_type": "code",
   "execution_count": null,
   "metadata": {},
   "outputs": [],
   "source": []
  }
 ],
 "metadata": {
  "kernelspec": {
   "display_name": "Python 3",
   "language": "python",
   "name": "python3"
  },
  "language_info": {
   "codemirror_mode": {
    "name": "ipython",
    "version": 3
   },
   "file_extension": ".py",
   "mimetype": "text/x-python",
   "name": "python",
   "nbconvert_exporter": "python",
   "pygments_lexer": "ipython3",
   "version": "3.7.3"
  }
 },
 "nbformat": 4,
 "nbformat_minor": 2
}
